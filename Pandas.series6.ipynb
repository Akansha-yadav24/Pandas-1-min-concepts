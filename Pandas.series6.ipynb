{
 "cells": [
  {
   "cell_type": "code",
   "execution_count": 4,
   "metadata": {},
   "outputs": [],
   "source": [
    "import pandas as pd\n",
    "\n",
    "cities = ['Kolkata', 'Chicago', 'Toronto', 'Lisbon']\n",
    "populations = [14.85, 2.71, 2.93, 0.51]\n",
    "city_series = pd.Series(populations, index=cities)"
   ]
  },
  {
   "cell_type": "markdown",
   "metadata": {},
   "source": [
    "| Column | Attribute/Method | Definition | Code |\n",
    "|--------|------------------|------------|------|\n",
    "| pandas.Series.array | Attribute | Returns the underlying data as a NumPy array | `city_series.array` |\n",
    "| pandas.Series.values | Attribute | Returns the underlying data as a NumPy array (same as `.array`) | `city_series.values` |\n",
    "| pandas.Series.dtype | Attribute | Returns the dtype (datatype) of the Series elements | `city_series.dtype` |\n",
    "| pandas.Series.shape | Attribute | Returns a tuple representing the dimensionality of the Series | `city_series.shape` |\n",
    "| pandas.Series.nbytes | Attribute | Returns the number of bytes in the underlying data | `city_series.nbytes` |\n",
    "| pandas.Series.ndim | Attribute | Returns the number of dimensions of the underlying data | `city_series.ndim` |\n",
    "| pandas.Series.size | Attribute | Returns the number of elements in the Series | `city_series.size` |\n",
    "| pandas.Series.T | Method | Transposes the Series (does not modify original, returns a new transposed Series) | `city_series.T` |\n",
    "| pandas.Series.memory_usage | Method | Returns the memory usage of the Series in bytes | `city_series.memory_usage()` |\n",
    "| pandas.Series.hasnans | Method | Returns True if there are any missing values in the Series, False otherwise | `city_series.hasnans` |\n",
    "| pandas.Series.empty | Method | Returns True if the Series is empty (has no elements), False otherwise | `city_series.empty` |\n",
    "| pandas.Series.dtypes | Method | Returns the dtypes in the Series | `city_series.dtypes` |\n",
    "| pandas.Series.name | Attribute | Returns the name of the Series | `city_series.name` |\n"
   ]
  },
  {
   "cell_type": "code",
   "execution_count": 2,
   "metadata": {},
   "outputs": [
    {
     "data": {
      "text/plain": [
       "<PandasArray>\n",
       "[14.85, 2.71, 2.93, 0.51]\n",
       "Length: 4, dtype: float64"
      ]
     },
     "execution_count": 2,
     "metadata": {},
     "output_type": "execute_result"
    }
   ],
   "source": [
    "city_series.array"
   ]
  },
  {
   "cell_type": "code",
   "execution_count": 3,
   "metadata": {},
   "outputs": [
    {
     "data": {
      "text/plain": [
       "array([14.85,  2.71,  2.93,  0.51])"
      ]
     },
     "execution_count": 3,
     "metadata": {},
     "output_type": "execute_result"
    }
   ],
   "source": [
    "city_series.values"
   ]
  },
  {
   "cell_type": "code",
   "execution_count": 5,
   "metadata": {},
   "outputs": [
    {
     "data": {
      "text/plain": [
       "dtype('float64')"
      ]
     },
     "execution_count": 5,
     "metadata": {},
     "output_type": "execute_result"
    }
   ],
   "source": [
    "city_series.dtype"
   ]
  },
  {
   "cell_type": "code",
   "execution_count": 6,
   "metadata": {},
   "outputs": [
    {
     "data": {
      "text/plain": [
       "(4,)"
      ]
     },
     "execution_count": 6,
     "metadata": {},
     "output_type": "execute_result"
    }
   ],
   "source": [
    "city_series.shape"
   ]
  },
  {
   "cell_type": "code",
   "execution_count": 7,
   "metadata": {},
   "outputs": [
    {
     "data": {
      "text/plain": [
       "32"
      ]
     },
     "execution_count": 7,
     "metadata": {},
     "output_type": "execute_result"
    }
   ],
   "source": [
    "city_series.nbytes"
   ]
  },
  {
   "cell_type": "code",
   "execution_count": 8,
   "metadata": {},
   "outputs": [
    {
     "data": {
      "text/plain": [
       "1"
      ]
     },
     "execution_count": 8,
     "metadata": {},
     "output_type": "execute_result"
    }
   ],
   "source": [
    "city_series.ndim"
   ]
  },
  {
   "cell_type": "code",
   "execution_count": 9,
   "metadata": {},
   "outputs": [
    {
     "data": {
      "text/plain": [
       "4"
      ]
     },
     "execution_count": 9,
     "metadata": {},
     "output_type": "execute_result"
    }
   ],
   "source": [
    "city_series.size"
   ]
  },
  {
   "cell_type": "code",
   "execution_count": 10,
   "metadata": {},
   "outputs": [
    {
     "data": {
      "text/plain": [
       "Kolkata    14.85\n",
       "Chicago     2.71\n",
       "Toronto     2.93\n",
       "Lisbon      0.51\n",
       "dtype: float64"
      ]
     },
     "execution_count": 10,
     "metadata": {},
     "output_type": "execute_result"
    }
   ],
   "source": [
    "city_series.T"
   ]
  },
  {
   "cell_type": "code",
   "execution_count": 11,
   "metadata": {},
   "outputs": [
    {
     "data": {
      "text/plain": [
       "236"
      ]
     },
     "execution_count": 11,
     "metadata": {},
     "output_type": "execute_result"
    }
   ],
   "source": [
    "city_series.memory_usage()"
   ]
  },
  {
   "cell_type": "code",
   "execution_count": 12,
   "metadata": {},
   "outputs": [
    {
     "data": {
      "text/plain": [
       "False"
      ]
     },
     "execution_count": 12,
     "metadata": {},
     "output_type": "execute_result"
    }
   ],
   "source": [
    "city_series.hasnans"
   ]
  },
  {
   "cell_type": "code",
   "execution_count": 13,
   "metadata": {},
   "outputs": [
    {
     "data": {
      "text/plain": [
       "False"
      ]
     },
     "execution_count": 13,
     "metadata": {},
     "output_type": "execute_result"
    }
   ],
   "source": [
    "city_series.empty"
   ]
  },
  {
   "cell_type": "code",
   "execution_count": 14,
   "metadata": {},
   "outputs": [],
   "source": [
    "city_series.name"
   ]
  }
 ],
 "metadata": {
  "kernelspec": {
   "display_name": "Python 3",
   "language": "python",
   "name": "python3"
  },
  "language_info": {
   "codemirror_mode": {
    "name": "ipython",
    "version": 3
   },
   "file_extension": ".py",
   "mimetype": "text/x-python",
   "name": "python",
   "nbconvert_exporter": "python",
   "pygments_lexer": "ipython3",
   "version": "3.11.4"
  }
 },
 "nbformat": 4,
 "nbformat_minor": 2
}
