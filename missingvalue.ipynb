{
 "cells": [
  {
   "cell_type": "markdown",
   "metadata": {},
   "source": [
    "| Functions         | Descriptions                                                                                                     |\n",
    "|-------------------|------------------------------------------------------------------------------------------------------------------|\n",
    "| .isnull()         | Identifies missing values in a Series or DataFrame.                                                              |\n",
    "| .notnull()        | Check for missing values in a pandas Series or DataFrame. It returns a boolean Series or DataFrame, where True indicates non-missing values and False indicates missing values. |\n",
    "| .info()           | Displays information about the DataFrame, including data types, memory usage, and presence of missing values.   |\n",
    "| .isna()           | Similar to notnull() but returns True for missing values and False for non-missing values.                      |\n",
    "| dropna()          | Drops rows or columns containing missing values based on custom criteria.                                        |\n",
    "| fillna()          | Fills missing values with specific values, means, medians, or other calculated values.                           |\n",
    "| replace()         | Replaces specific values with other values, facilitating data correction and standardization.                    |\n",
    "| drop_duplicates() | Removes duplicate rows based on specified columns.                                                               |\n",
    "| unique()          | Finds unique values in a Series or DataFrame.                                                                     |\n"
   ]
  },
  {
   "cell_type": "code",
   "execution_count": 1,
   "metadata": {},
   "outputs": [
    {
     "name": "stdout",
     "output_type": "stream",
     "text": [
      "       A     B      C\n",
      "0    1.0     a   True\n",
      "1    2.0     b  False\n",
      "2    NaN     c   True\n",
      "3    4.0  None   None\n",
      "4    5.0     e  False\n",
      "5    NaN     f   True\n",
      "6    7.0     g   None\n",
      "7    8.0     h   True\n",
      "8    9.0  None  False\n",
      "9    NaN     j  False\n",
      "10  11.0     k   True\n",
      "11   NaN     l   None\n",
      "12  13.0     m   True\n",
      "13  14.0     n   None\n",
      "14  15.0  None  False\n"
     ]
    }
   ],
   "source": [
    "import pandas as pd\n",
    "\n",
    "# Create a dictionary with sample data\n",
    "data = {\n",
    "    'A': [1, 2, None, 4, 5, None, 7, 8, 9, None, 11, None, 13, 14, 15],\n",
    "    'B': ['a', 'b', 'c', None, 'e', 'f', 'g', 'h', None, 'j', 'k', 'l', 'm', 'n', None],\n",
    "    'C': [True, False, True, None, False, True, None, True, False, False, True, None, True, None, False]\n",
    "}\n",
    "\n",
    "# Create DataFrame\n",
    "df = pd.DataFrame(data)\n",
    "\n",
    "# Display DataFrame\n",
    "print(df)"
   ]
  },
  {
   "cell_type": "code",
   "execution_count": 2,
   "metadata": {},
   "outputs": [
    {
     "name": "stdout",
     "output_type": "stream",
     "text": [
      "\n",
      ".isnull():\n",
      "         A      B      C\n",
      "0   False  False  False\n",
      "1   False  False  False\n",
      "2    True  False  False\n",
      "3   False   True   True\n",
      "4   False  False  False\n",
      "5    True  False  False\n",
      "6   False  False   True\n",
      "7   False  False  False\n",
      "8   False   True  False\n",
      "9    True  False  False\n",
      "10  False  False  False\n",
      "11   True  False   True\n",
      "12  False  False  False\n",
      "13  False  False   True\n",
      "14  False   True  False\n"
     ]
    }
   ],
   "source": [
    "# Method: .isnull()\n",
    "# Identifies missing values in a Series or DataFrame.\n",
    "print(\"\\n.isnull():\\n\", df.isnull())"
   ]
  },
  {
   "cell_type": "code",
   "execution_count": 3,
   "metadata": {},
   "outputs": [
    {
     "name": "stdout",
     "output_type": "stream",
     "text": [
      "\n",
      ".notnull():\n",
      "         A      B      C\n",
      "0    True   True   True\n",
      "1    True   True   True\n",
      "2   False   True   True\n",
      "3    True  False  False\n",
      "4    True   True   True\n",
      "5   False   True   True\n",
      "6    True   True  False\n",
      "7    True   True   True\n",
      "8    True  False   True\n",
      "9   False   True   True\n",
      "10   True   True   True\n",
      "11  False   True  False\n",
      "12   True   True   True\n",
      "13   True   True  False\n",
      "14   True  False   True\n"
     ]
    }
   ],
   "source": [
    "# Method: .notnull()\n",
    "# Check for missing values in a pandas Series or DataFrame.\n",
    "# It returns a boolean Series or DataFrame,\n",
    "# where True indicates non-missing values and False indicates missing values.\n",
    "print(\"\\n.notnull():\\n\", df.notnull())"
   ]
  },
  {
   "cell_type": "code",
   "execution_count": 4,
   "metadata": {},
   "outputs": [
    {
     "name": "stdout",
     "output_type": "stream",
     "text": [
      "\n",
      ".info():\n",
      "\n",
      "<class 'pandas.core.frame.DataFrame'>\n",
      "RangeIndex: 15 entries, 0 to 14\n",
      "Data columns (total 3 columns):\n",
      " #   Column  Non-Null Count  Dtype  \n",
      "---  ------  --------------  -----  \n",
      " 0   A       11 non-null     float64\n",
      " 1   B       12 non-null     object \n",
      " 2   C       11 non-null     object \n",
      "dtypes: float64(1), object(2)\n",
      "memory usage: 492.0+ bytes\n",
      "None\n"
     ]
    }
   ],
   "source": [
    "# Method: .info()\n",
    "# Displays information about the DataFrame, including data types, memory usage, and presence of missing values.\n",
    "print(\"\\n.info():\\n\")\n",
    "print(df.info())"
   ]
  },
  {
   "cell_type": "code",
   "execution_count": null,
   "metadata": {},
   "outputs": [],
   "source": []
  }
 ],
 "metadata": {
  "kernelspec": {
   "display_name": "Python 3",
   "language": "python",
   "name": "python3"
  },
  "language_info": {
   "codemirror_mode": {
    "name": "ipython",
    "version": 3
   },
   "file_extension": ".py",
   "mimetype": "text/x-python",
   "name": "python",
   "nbconvert_exporter": "python",
   "pygments_lexer": "ipython3",
   "version": "3.11.4"
  }
 },
 "nbformat": 4,
 "nbformat_minor": 2
}
