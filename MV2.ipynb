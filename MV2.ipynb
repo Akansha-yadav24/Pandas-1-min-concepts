{
 "cells": [
  {
   "cell_type": "code",
   "execution_count": 1,
   "metadata": {},
   "outputs": [
    {
     "name": "stdout",
     "output_type": "stream",
     "text": [
      "       A     B      C\n",
      "0    1.0     a   True\n",
      "1    2.0     b  False\n",
      "2    NaN     c   True\n",
      "3    4.0  None   None\n",
      "4    5.0     e  False\n",
      "5    NaN     f   True\n",
      "6    7.0     g   None\n",
      "7    8.0     h   True\n",
      "8    9.0  None  False\n",
      "9    NaN     j  False\n",
      "10  11.0     k   True\n",
      "11   NaN     l   None\n",
      "12  13.0     m   True\n",
      "13  14.0     n   None\n",
      "14  15.0  None  False\n"
     ]
    }
   ],
   "source": [
    "import pandas as pd\n",
    "\n",
    "# Create a dictionary with sample data\n",
    "data = {\n",
    "    'A': [1, 2, None, 4, 5, None, 7, 8, 9, None, 11, None, 13, 14, 15],\n",
    "    'B': ['a', 'b', 'c', None, 'e', 'f', 'g', 'h', None, 'j', 'k', 'l', 'm', 'n', None],\n",
    "    'C': [True, False, True, None, False, True, None, True, False, False, True, None, True, None, False]\n",
    "}\n",
    "\n",
    "# Create DataFrame\n",
    "df = pd.DataFrame(data)\n",
    "\n",
    "# Display DataFrame\n",
    "print(df)"
   ]
  },
  {
   "cell_type": "markdown",
   "metadata": {},
   "source": [
    "isnull()\n",
    "notnull()\n",
    "info()"
   ]
  },
  {
   "cell_type": "code",
   "execution_count": 2,
   "metadata": {},
   "outputs": [
    {
     "name": "stdout",
     "output_type": "stream",
     "text": [
      "\n",
      "Before dropna():\n",
      "        A     B      C\n",
      "0    1.0     a   True\n",
      "1    2.0     b  False\n",
      "2    NaN     c   True\n",
      "3    4.0  None   None\n",
      "4    5.0     e  False\n",
      "5    NaN     f   True\n",
      "6    7.0     g   None\n",
      "7    8.0     h   True\n",
      "8    9.0  None  False\n",
      "9    NaN     j  False\n",
      "10  11.0     k   True\n",
      "11   NaN     l   None\n",
      "12  13.0     m   True\n",
      "13  14.0     n   None\n",
      "14  15.0  None  False\n",
      "\n",
      "After dropna():\n",
      "        A  B      C\n",
      "0    1.0  a   True\n",
      "1    2.0  b  False\n",
      "4    5.0  e  False\n",
      "7    8.0  h   True\n",
      "10  11.0  k   True\n",
      "12  13.0  m   True\n"
     ]
    }
   ],
   "source": [
    "# Method: dropna()\n",
    "# Drops rows or columns containing missing values based on custom criteria.\n",
    "print(\"\\nBefore dropna():\\n\", df)\n",
    "print(\"\\nAfter dropna():\\n\", df.dropna())"
   ]
  },
  {
   "cell_type": "code",
   "execution_count": 3,
   "metadata": {},
   "outputs": [
    {
     "name": "stdout",
     "output_type": "stream",
     "text": [
      "\n",
      "Before fillna():\n",
      "        A     B      C\n",
      "0    1.0     a   True\n",
      "1    2.0     b  False\n",
      "2    NaN     c   True\n",
      "3    4.0  None   None\n",
      "4    5.0     e  False\n",
      "5    NaN     f   True\n",
      "6    7.0     g   None\n",
      "7    8.0     h   True\n",
      "8    9.0  None  False\n",
      "9    NaN     j  False\n",
      "10  11.0     k   True\n",
      "11   NaN     l   None\n",
      "12  13.0     m   True\n",
      "13  14.0     n   None\n",
      "14  15.0  None  False\n",
      "\n",
      "After fillna():\n",
      "        A  B      C\n",
      "0    1.0  a   True\n",
      "1    2.0  b  False\n",
      "2    0.0  c   True\n",
      "3    4.0  0      0\n",
      "4    5.0  e  False\n",
      "5    0.0  f   True\n",
      "6    7.0  g      0\n",
      "7    8.0  h   True\n",
      "8    9.0  0  False\n",
      "9    0.0  j  False\n",
      "10  11.0  k   True\n",
      "11   0.0  l      0\n",
      "12  13.0  m   True\n",
      "13  14.0  n      0\n",
      "14  15.0  0  False\n"
     ]
    }
   ],
   "source": [
    "# Method: fillna()\n",
    "# Fills missing values with specific values, means, medians, or other calculated values.\n",
    "print(\"\\nBefore fillna():\\n\", df)\n",
    "print(\"\\nAfter fillna():\\n\", df.fillna(0))"
   ]
  },
  {
   "cell_type": "code",
   "execution_count": 4,
   "metadata": {},
   "outputs": [
    {
     "name": "stdout",
     "output_type": "stream",
     "text": [
      "\n",
      "Before replace():\n",
      "        A     B      C\n",
      "0    1.0     a   True\n",
      "1    2.0     b  False\n",
      "2    NaN     c   True\n",
      "3    4.0  None   None\n",
      "4    5.0     e  False\n",
      "5    NaN     f   True\n",
      "6    7.0     g   None\n",
      "7    8.0     h   True\n",
      "8    9.0  None  False\n",
      "9    NaN     j  False\n",
      "10  11.0     k   True\n",
      "11   NaN     l   None\n",
      "12  13.0     m   True\n",
      "13  14.0     n   None\n",
      "14  15.0  None  False\n",
      "\n",
      "After replace():\n",
      "        A  B      C\n",
      "0    1.0  x   True\n",
      "1    2.0  b  False\n",
      "2    NaN  c   True\n",
      "3    4.0  0      0\n",
      "4    5.0  e  False\n",
      "5    NaN  f   True\n",
      "6    7.0  g      0\n",
      "7    8.0  h   True\n",
      "8    9.0  0  False\n",
      "9    NaN  j  False\n",
      "10  11.0  k   True\n",
      "11   NaN  l      0\n",
      "12  13.0  m   True\n",
      "13  14.0  n      0\n",
      "14  15.0  0  False\n"
     ]
    }
   ],
   "source": [
    "# Method: replace()\n",
    "# Replaces specific values with other values, facilitating data correction and standardization.\n",
    "print(\"\\nBefore replace():\\n\", df)\n",
    "print(\"\\nAfter replace():\\n\", df.replace({None: 0, 'a': 'x'}))"
   ]
  },
  {
   "cell_type": "code",
   "execution_count": null,
   "metadata": {},
   "outputs": [],
   "source": []
  }
 ],
 "metadata": {
  "kernelspec": {
   "display_name": "Python 3",
   "language": "python",
   "name": "python3"
  },
  "language_info": {
   "codemirror_mode": {
    "name": "ipython",
    "version": 3
   },
   "file_extension": ".py",
   "mimetype": "text/x-python",
   "name": "python",
   "nbconvert_exporter": "python",
   "pygments_lexer": "ipython3",
   "version": "3.11.4"
  }
 },
 "nbformat": 4,
 "nbformat_minor": 2
}
