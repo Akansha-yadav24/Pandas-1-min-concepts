{
 "cells": [
  {
   "cell_type": "markdown",
   "metadata": {},
   "source": [
    "| Fruit    | Color | Price |\n",
    "|----------|-------|-------|\n",
    "| Apple    | Red   | 10 |\n",
    "| Banana   | Yellow| 15 |\n",
    "| Grape    | Green | 10 |\n",
    "| Orange   | Orange| 25 |\n",
    "| Strawberry| Red   | 50 |"
   ]
  },
  {
   "cell_type": "code",
   "execution_count": 4,
   "metadata": {},
   "outputs": [],
   "source": [
    "data={\n",
    "    \"Fruits\":[\"Apple\",\"Banana\",\"Grape\",\"Orange\",\"Strawberry\"],\n",
    "    \"Color\":[\"Red\",\"Yellow\",\"Green\",\"Orange\",\"Red\"],\n",
    "    \"Price\":[10,15,10,25,50]\n",
    "}"
   ]
  },
  {
   "cell_type": "code",
   "execution_count": 5,
   "metadata": {},
   "outputs": [],
   "source": [
    "import pandas as pd"
   ]
  },
  {
   "cell_type": "code",
   "execution_count": 6,
   "metadata": {},
   "outputs": [],
   "source": [
    "dataf=pd.DataFrame(data)"
   ]
  },
  {
   "cell_type": "code",
   "execution_count": 7,
   "metadata": {},
   "outputs": [
    {
     "name": "stdout",
     "output_type": "stream",
     "text": [
      "       Fruits   Color  Price\n",
      "0       Apple     Red     10\n",
      "1      Banana  Yellow     15\n",
      "2       Grape   Green     10\n",
      "3      Orange  Orange     25\n",
      "4  Strawberry     Red     50\n"
     ]
    }
   ],
   "source": [
    "print(dataf)"
   ]
  },
  {
   "cell_type": "markdown",
   "metadata": {},
   "source": [
    "Want to find all the fruits that are red?"
   ]
  },
  {
   "cell_type": "code",
   "execution_count": 8,
   "metadata": {},
   "outputs": [
    {
     "name": "stdout",
     "output_type": "stream",
     "text": [
      "       Fruits Color  Price\n",
      "0       Apple   Red     10\n",
      "4  Strawberry   Red     50\n"
     ]
    }
   ],
   "source": [
    "red_fruits=dataf[dataf[\"Color\"]==\"Red\"]\n",
    "print(red_fruits)"
   ]
  },
  {
   "cell_type": "markdown",
   "metadata": {},
   "source": [
    "Calculating the average price of all fruits"
   ]
  },
  {
   "cell_type": "code",
   "execution_count": 11,
   "metadata": {},
   "outputs": [
    {
     "data": {
      "text/plain": [
       "22.0"
      ]
     },
     "execution_count": 11,
     "metadata": {},
     "output_type": "execute_result"
    }
   ],
   "source": [
    "dataf[\"Price\"].mean()"
   ]
  },
  {
   "cell_type": "markdown",
   "metadata": {},
   "source": [
    "* Locate Row\n",
    "* Named Indexes\n",
    "* Locate Named Indexes"
   ]
  },
  {
   "cell_type": "code",
   "execution_count": null,
   "metadata": {},
   "outputs": [],
   "source": []
  }
 ],
 "metadata": {
  "kernelspec": {
   "display_name": "Python 3",
   "language": "python",
   "name": "python3"
  },
  "language_info": {
   "codemirror_mode": {
    "name": "ipython",
    "version": 3
   },
   "file_extension": ".py",
   "mimetype": "text/x-python",
   "name": "python",
   "nbconvert_exporter": "python",
   "pygments_lexer": "ipython3",
   "version": "3.11.4"
  }
 },
 "nbformat": 4,
 "nbformat_minor": 2
}
