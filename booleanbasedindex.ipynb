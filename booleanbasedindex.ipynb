{
 "cells": [
  {
   "cell_type": "code",
   "execution_count": 1,
   "metadata": {},
   "outputs": [
    {
     "name": "stdout",
     "output_type": "stream",
     "text": [
      "    Name  Grade  Attendance\n",
      "0  Priya     85        True\n",
      "1  Rahul     90        True\n",
      "2  Pinky     75       False\n",
      "3    Jay     88        True\n",
      "4  Rohit     92        True\n"
     ]
    }
   ],
   "source": [
    "import pandas as pd\n",
    "\n",
    "# Sample student data\n",
    "data = {\n",
    "    'Name': ['Priya', 'Rahul', 'Pinky', 'Jay', 'Rohit'],\n",
    "    'Grade': [85, 90, 75, 88, 92],\n",
    "    'Attendance': [True, True, False, True, True]\n",
    "}\n",
    "\n",
    "# Create DataFrame\n",
    "df = pd.DataFrame(data)\n",
    "print(df)"
   ]
  },
  {
   "cell_type": "markdown",
   "metadata": {},
   "source": [
    "## Locate rows in a pandas DataFrame."
   ]
  },
  {
   "cell_type": "markdown",
   "metadata": {},
   "source": [
    "- Numeric Indexing:\n",
    "- Label-based Indexing:\n",
    "- Boolean Indexing:"
   ]
  },
  {
   "cell_type": "markdown",
   "metadata": {},
   "source": [
    "Boolean indexing involves using boolean conditions to filter rows."
   ]
  },
  {
   "cell_type": "code",
   "execution_count": 2,
   "metadata": {},
   "outputs": [],
   "source": [
    "# Locate rows where attendance is True using boolean indexing\n",
    "attended_rows = df[df['Attendance'] == True]\n"
   ]
  },
  {
   "cell_type": "code",
   "execution_count": 3,
   "metadata": {},
   "outputs": [
    {
     "name": "stdout",
     "output_type": "stream",
     "text": [
      "Rows where attendance is True:\n",
      "    Name  Grade  Attendance\n",
      "0  Priya     85        True\n",
      "1  Rahul     90        True\n",
      "3    Jay     88        True\n",
      "4  Rohit     92        True\n"
     ]
    }
   ],
   "source": [
    "print(\"Rows where attendance is True:\")\n",
    "print(attended_rows)"
   ]
  },
  {
   "cell_type": "code",
   "execution_count": null,
   "metadata": {},
   "outputs": [],
   "source": []
  }
 ],
 "metadata": {
  "kernelspec": {
   "display_name": "Python 3",
   "language": "python",
   "name": "python3"
  },
  "language_info": {
   "codemirror_mode": {
    "name": "ipython",
    "version": 3
   },
   "file_extension": ".py",
   "mimetype": "text/x-python",
   "name": "python",
   "nbconvert_exporter": "python",
   "pygments_lexer": "ipython3",
   "version": "3.11.4"
  }
 },
 "nbformat": 4,
 "nbformat_minor": 2
}
