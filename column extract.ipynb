{
 "cells": [
  {
   "cell_type": "code",
   "execution_count": 7,
   "metadata": {},
   "outputs": [
    {
     "name": "stdout",
     "output_type": "stream",
     "text": [
      "      Name  Age  Salary\n",
      "0     John   25   50000\n",
      "1     Emma   30   60000\n",
      "2     Ryan   35   70000\n",
      "3     Lisa   28   55000\n",
      "4  Michael   40   80000\n"
     ]
    }
   ],
   "source": [
    "import pandas as pd\n",
    "\n",
    "# Creating a sample DataFrame\n",
    "data = {\n",
    "    'Name': ['John', 'Emma', 'Ryan', 'Lisa', 'Michael'],\n",
    "    'Age': [25, 30, 35, 28, 40],\n",
    "    'Salary': [50000, 60000, 70000, 55000, 80000]\n",
    "}\n",
    "df = pd.DataFrame(data)\n",
    "print(df)"
   ]
  },
  {
   "cell_type": "code",
   "execution_count": 2,
   "metadata": {},
   "outputs": [
    {
     "name": "stdout",
     "output_type": "stream",
     "text": [
      "Name Column:\n",
      "0       John\n",
      "1       Emma\n",
      "2       Ryan\n",
      "3       Lisa\n",
      "4    Michael\n",
      "Name: Name, dtype: object\n"
     ]
    }
   ],
   "source": [
    "# Accessing a column by name\n",
    "name_column = df['Name']\n",
    "print(\"Name Column:\")\n",
    "print(name_column)"
   ]
  },
  {
   "cell_type": "code",
   "execution_count": 3,
   "metadata": {},
   "outputs": [
    {
     "name": "stdout",
     "output_type": "stream",
     "text": [
      "\n",
      "Age Column:\n",
      "0    25\n",
      "1    30\n",
      "2    35\n",
      "3    28\n",
      "4    40\n",
      "Name: Age, dtype: int64\n"
     ]
    }
   ],
   "source": [
    "# Accessing a column by index\n",
    "age_column = df.iloc[:, 1]  # Assuming 'Age' column is the second column (index 1)\n",
    "print(\"\\nAge Column:\")\n",
    "print(age_column)"
   ]
  },
  {
   "cell_type": "code",
   "execution_count": 4,
   "metadata": {},
   "outputs": [
    {
     "name": "stdout",
     "output_type": "stream",
     "text": [
      "\n",
      "Salary Column:\n",
      "0    50000\n",
      "1    60000\n",
      "2    70000\n",
      "3    55000\n",
      "4    80000\n",
      "Name: Salary, dtype: int64\n"
     ]
    }
   ],
   "source": [
    "# Accessing a column by name using loc\n",
    "salary_column = df.loc[:, 'Salary']\n",
    "print(\"\\nSalary Column:\")\n",
    "print(salary_column)"
   ]
  },
  {
   "cell_type": "code",
   "execution_count": 5,
   "metadata": {},
   "outputs": [
    {
     "name": "stdout",
     "output_type": "stream",
     "text": [
      "\n",
      "Selected Columns:\n",
      "      Name  Salary\n",
      "0     John   50000\n",
      "1     Emma   60000\n",
      "2     Ryan   70000\n",
      "3     Lisa   55000\n",
      "4  Michael   80000\n"
     ]
    }
   ],
   "source": [
    "# Accessing multiple columns by name\n",
    "selected_columns = df[['Name', 'Salary']]\n",
    "print(\"\\nSelected Columns:\")\n",
    "print(selected_columns)"
   ]
  },
  {
   "cell_type": "code",
   "execution_count": 6,
   "metadata": {},
   "outputs": [
    {
     "name": "stdout",
     "output_type": "stream",
     "text": [
      "\n",
      "Selected Rows where Age > 30:\n",
      "2       Ryan\n",
      "4    Michael\n",
      "Name: Name, dtype: object\n"
     ]
    }
   ],
   "source": [
    "# Boolean indexing to select rows based on column values\n",
    "selected_rows = df[df['Age'] > 30]['Name']\n",
    "print(\"\\nSelected Rows where Age > 30:\")\n",
    "print(selected_rows)"
   ]
  }
 ],
 "metadata": {
  "kernelspec": {
   "display_name": "Python 3",
   "language": "python",
   "name": "python3"
  },
  "language_info": {
   "codemirror_mode": {
    "name": "ipython",
    "version": 3
   },
   "file_extension": ".py",
   "mimetype": "text/x-python",
   "name": "python",
   "nbconvert_exporter": "python",
   "pygments_lexer": "ipython3",
   "version": "3.11.4"
  }
 },
 "nbformat": 4,
 "nbformat_minor": 2
}
