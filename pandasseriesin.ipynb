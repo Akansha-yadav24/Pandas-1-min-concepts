{
 "cells": [
  {
   "cell_type": "code",
   "execution_count": 1,
   "metadata": {},
   "outputs": [],
   "source": [
    "import pandas as pd"
   ]
  },
  {
   "cell_type": "code",
   "execution_count": 2,
   "metadata": {},
   "outputs": [],
   "source": [
    "# Sample population data for two consecutive years\n",
    "population_2020 = pd.Series([14.85, 2.71, 2.93, 0.51], index=['Kolkata', 'Chicago', 'Toronto', 'Lisbon'])\n",
    "population_2021 = pd.Series([15.2, 2.8, 3.05, 0.53], index=['Kolkata', 'Chicago', 'Toronto', 'Lisbon'])\n",
    "\n",
    "\n"
   ]
  },
  {
   "cell_type": "code",
   "execution_count": 3,
   "metadata": {},
   "outputs": [
    {
     "name": "stdout",
     "output_type": "stream",
     "text": [
      "City Names:\n",
      "Index(['Kolkata', 'Chicago', 'Toronto', 'Lisbon'], dtype='object')\n"
     ]
    }
   ],
   "source": [
    "# Print indexes (city names)\n",
    "print(\"City Names:\")\n",
    "print(population_2020.index)\n"
   ]
  },
  {
   "cell_type": "code",
   "execution_count": 4,
   "metadata": {},
   "outputs": [
    {
     "name": "stdout",
     "output_type": "stream",
     "text": [
      "\n",
      "Population in 2020:\n",
      "Kolkata    14.85\n",
      "Chicago     2.71\n",
      "Toronto     2.93\n",
      "Lisbon      0.51\n",
      "dtype: float64\n",
      "\n",
      "Population in 2021:\n",
      "Kolkata    15.20\n",
      "Chicago     2.80\n",
      "Toronto     3.05\n",
      "Lisbon      0.53\n",
      "dtype: float64\n"
     ]
    }
   ],
   "source": [
    "# Print population data for both years\n",
    "print(\"\\nPopulation in 2020:\")\n",
    "print(population_2020)\n",
    "print(\"\\nPopulation in 2021:\")\n",
    "print(population_2021)"
   ]
  },
  {
   "cell_type": "code",
   "execution_count": null,
   "metadata": {},
   "outputs": [],
   "source": []
  }
 ],
 "metadata": {
  "kernelspec": {
   "display_name": "Python 3",
   "language": "python",
   "name": "python3"
  },
  "language_info": {
   "codemirror_mode": {
    "name": "ipython",
    "version": 3
   },
   "file_extension": ".py",
   "mimetype": "text/x-python",
   "name": "python",
   "nbconvert_exporter": "python",
   "pygments_lexer": "ipython3",
   "version": "3.11.4"
  }
 },
 "nbformat": 4,
 "nbformat_minor": 2
}
