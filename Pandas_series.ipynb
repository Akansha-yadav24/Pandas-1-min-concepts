{
 "cells": [
  {
   "cell_type": "markdown",
   "metadata": {},
   "source": [
    "## Series"
   ]
  },
  {
   "cell_type": "markdown",
   "metadata": {},
   "source": [
    "1. Constructing Series from a dictionary"
   ]
  },
  {
   "cell_type": "markdown",
   "metadata": {},
   "source": [
    "2. Constructing Series from a list"
   ]
  },
  {
   "cell_type": "markdown",
   "metadata": {},
   "source": [
    "3. Constructing Series from a 1d ndarray"
   ]
  },
  {
   "cell_type": "markdown",
   "metadata": {},
   "source": [
    "**pandas.Series(data=None, index=None, dtype=None, name=None, copy=None, fastpath=_NoDefault.no_default)**"
   ]
  },
  {
   "cell_type": "markdown",
   "metadata": {},
   "source": [
    "1. **data**\n",
    "- array-like, Iterable, dict, or scalar value\n",
    "- Contains data stored in Series. If data is a dict, argument order is maintained.\n",
    "\n",
    "2. **index**\n",
    "- array-like or Index (1d)\n",
    "- Values must be hashable and have the same length as data. Non-unique index values are allowed. Will default to RangeIndex (0, 1, 2, …, n) if not provided. If data is dict-like and index is None, then the keys in the data are used as the index. If the index is not None, the resulting Series is reindexed with the index values.\n",
    "\n",
    "3. **dtype**\n",
    "- str, numpy.dtype, or ExtensionDtype, optional\n",
    "- Data type for the output Series. If not specified, this will be inferred from data. See the user guide for more usages.\n",
    "\n",
    "4. **name**\n",
    "- Hashable, default None\n",
    "- The name to give to the Series.\n",
    "\n",
    "5. **copy**\n",
    "- bool, default False\n",
    "- Copy input data. Only affects Series or 1d ndarray input."
   ]
  }
 ],
 "metadata": {
  "kernelspec": {
   "display_name": "Python 3",
   "language": "python",
   "name": "python3"
  },
  "language_info": {
   "codemirror_mode": {
    "name": "ipython",
    "version": 3
   },
   "file_extension": ".py",
   "mimetype": "text/x-python",
   "name": "python",
   "nbconvert_exporter": "python",
   "pygments_lexer": "ipython3",
   "version": "3.11.4"
  }
 },
 "nbformat": 4,
 "nbformat_minor": 2
}
